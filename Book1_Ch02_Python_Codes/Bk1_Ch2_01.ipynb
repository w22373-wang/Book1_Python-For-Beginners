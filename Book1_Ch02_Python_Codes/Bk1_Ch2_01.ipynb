{
 "cells": [
  {
   "cell_type": "markdown",
   "id": "de2a6ce1-7094-4915-a731-b2fe74c605d3",
   "metadata": {},
   "source": [
    "Chapter 02\n",
    "# 检查常用Python库版本号\n",
    "Book_1《编程不难》 | 鸢尾花书：从加减乘除到机器学习  "
   ]
  },
  {
   "cell_type": "code",
   "execution_count": 1,
   "id": "7f52478c-5e6e-4d1c-8ffc-07ded926579a",
   "metadata": {},
   "outputs": [
    {
     "name": "stdout",
     "output_type": "stream",
     "text": [
      "scipy: 1.11.4\n"
     ]
    }
   ],
   "source": [
    "# 检查常用Python库版本号\n",
    "import scipy\n",
    "print('scipy: %s' % scipy.__version__)"
   ]
  },
  {
   "cell_type": "code",
   "execution_count": 2,
   "id": "78c85f83-05a8-491c-b88a-998278e8de8b",
   "metadata": {},
   "outputs": [
    {
     "name": "stdout",
     "output_type": "stream",
     "text": [
      "numpy: 1.24.3\n"
     ]
    }
   ],
   "source": [
    "import numpy\n",
    "print('numpy: %s' % numpy.__version__)"
   ]
  },
  {
   "cell_type": "code",
   "execution_count": 3,
   "id": "5e067ca8-addc-4640-9156-8db92ddd9088",
   "metadata": {},
   "outputs": [
    {
     "name": "stdout",
     "output_type": "stream",
     "text": [
      "matplotlib: 3.4.3\n"
     ]
    }
   ],
   "source": [
    "import matplotlib\n",
    "print('matplotlib: %s' % matplotlib.__version__)"
   ]
  },
  {
   "cell_type": "code",
   "execution_count": 3,
   "id": "99926197-8a9d-486c-a6d7-fd092eda42c8",
   "metadata": {},
   "outputs": [
    {
     "name": "stdout",
     "output_type": "stream",
     "text": [
      "pandas: 2.0.3\n"
     ]
    }
   ],
   "source": [
    "import pandas\n",
    "print('pandas: %s' % pandas.__version__)"
   ]
  },
  {
   "cell_type": "code",
   "execution_count": 4,
   "id": "4c88c22b-f884-4045-b589-e24a7caf8cff",
   "metadata": {},
   "outputs": [
    {
     "name": "stdout",
     "output_type": "stream",
     "text": [
      "statsmodels: 0.14.0\n"
     ]
    }
   ],
   "source": [
    "import statsmodels\n",
    "print('statsmodels: %s' % statsmodels.__version__)"
   ]
  },
  {
   "cell_type": "code",
   "execution_count": 9,
   "id": "c1dd83ff-f8a7-4cc6-b146-942eca594e84",
   "metadata": {},
   "outputs": [
    {
     "name": "stdout",
     "output_type": "stream",
     "text": [
      "sklearn: 1.3.2\n"
     ]
    }
   ],
   "source": [
    "import sklearn\n",
    "print('sklearn: %s' % sklearn.__version__)"
   ]
  },
  {
   "cell_type": "code",
   "execution_count": 8,
   "id": "ec2eac02",
   "metadata": {},
   "outputs": [
    {
     "name": "stdout",
     "output_type": "stream",
     "text": [
      "Collecting scikit-learn\n",
      "  Downloading scikit_learn-1.3.2-cp39-cp39-win_amd64.whl.metadata (11 kB)\n",
      "Requirement already satisfied: numpy<2.0,>=1.17.3 in c:\\python39\\lib\\site-packages (from scikit-learn) (1.24.3)\n",
      "Requirement already satisfied: scipy>=1.5.0 in c:\\python39\\lib\\site-packages (from scikit-learn) (1.11.4)\n",
      "Collecting joblib>=1.1.1 (from scikit-learn)\n",
      "  Using cached joblib-1.3.2-py3-none-any.whl.metadata (5.4 kB)\n",
      "Collecting threadpoolctl>=2.0.0 (from scikit-learn)\n",
      "  Downloading threadpoolctl-3.2.0-py3-none-any.whl.metadata (10.0 kB)\n",
      "Downloading scikit_learn-1.3.2-cp39-cp39-win_amd64.whl (9.3 MB)\n",
      "   ---------------------------------------- 0.0/9.3 MB ? eta -:--:--\n",
      "   ---------------------------------------- 0.1/9.3 MB 1.1 MB/s eta 0:00:09\n",
      "    --------------------------------------- 0.2/9.3 MB 2.1 MB/s eta 0:00:05\n",
      "   - -------------------------------------- 0.3/9.3 MB 2.3 MB/s eta 0:00:04\n",
      "   -- ------------------------------------- 0.5/9.3 MB 2.7 MB/s eta 0:00:04\n",
      "   ---- ----------------------------------- 1.0/9.3 MB 4.2 MB/s eta 0:00:02\n",
      "   ------ --------------------------------- 1.4/9.3 MB 5.0 MB/s eta 0:00:02\n",
      "   -------- ------------------------------- 2.0/9.3 MB 6.0 MB/s eta 0:00:02\n",
      "   ----------- ---------------------------- 2.6/9.3 MB 6.8 MB/s eta 0:00:01\n",
      "   --------------- ------------------------ 3.5/9.3 MB 8.3 MB/s eta 0:00:01\n",
      "   ----------------- ---------------------- 4.2/9.3 MB 8.9 MB/s eta 0:00:01\n",
      "   --------------------- ------------------ 5.0/9.3 MB 9.6 MB/s eta 0:00:01\n",
      "   ------------------------- -------------- 5.9/9.3 MB 10.5 MB/s eta 0:00:01\n",
      "   ----------------------------- ---------- 6.9/9.3 MB 11.3 MB/s eta 0:00:01\n",
      "   --------------------------------- ------ 7.8/9.3 MB 11.9 MB/s eta 0:00:01\n",
      "   ------------------------------------- -- 8.7/9.3 MB 12.3 MB/s eta 0:00:01\n",
      "   ---------------------------------------  9.3/9.3 MB 12.7 MB/s eta 0:00:01\n",
      "   ---------------------------------------  9.3/9.3 MB 12.7 MB/s eta 0:00:01\n",
      "   ---------------------------------------- 9.3/9.3 MB 11.2 MB/s eta 0:00:00\n",
      "Using cached joblib-1.3.2-py3-none-any.whl (302 kB)\n",
      "Downloading threadpoolctl-3.2.0-py3-none-any.whl (15 kB)\n",
      "Installing collected packages: threadpoolctl, joblib, scikit-learn\n",
      "Successfully installed joblib-1.3.2 scikit-learn-1.3.2 threadpoolctl-3.2.0\n"
     ]
    }
   ],
   "source": [
    "!pip install scikit-learn"
   ]
  }
 ],
 "metadata": {
  "kernelspec": {
   "display_name": "Python 3 (ipykernel)",
   "language": "python",
   "name": "python3"
  },
  "language_info": {
   "codemirror_mode": {
    "name": "ipython",
    "version": 3
   },
   "file_extension": ".py",
   "mimetype": "text/x-python",
   "name": "python",
   "nbconvert_exporter": "python",
   "pygments_lexer": "ipython3",
   "version": "3.9.0rc2"
  }
 },
 "nbformat": 4,
 "nbformat_minor": 5
}
